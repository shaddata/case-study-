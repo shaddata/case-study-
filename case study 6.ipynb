{
 "cells": [
  {
   "cell_type": "code",
   "execution_count": 22,
   "id": "83d631ca",
   "metadata": {},
   "outputs": [],
   "source": [
    "# importing necessary libraries\n",
    "\n",
    "import pandas as pd\n",
    "import numpy as np\n",
    "import matplotlib.pyplot as plt\n",
    "import seaborn as sns"
   ]
  },
  {
   "cell_type": "code",
   "execution_count": 23,
   "id": "3ecdd9b3",
   "metadata": {},
   "outputs": [
    {
     "data": {
      "text/html": [
       "<div>\n",
       "<style scoped>\n",
       "    .dataframe tbody tr th:only-of-type {\n",
       "        vertical-align: middle;\n",
       "    }\n",
       "\n",
       "    .dataframe tbody tr th {\n",
       "        vertical-align: top;\n",
       "    }\n",
       "\n",
       "    .dataframe thead th {\n",
       "        text-align: right;\n",
       "    }\n",
       "</style>\n",
       "<table border=\"1\" class=\"dataframe\">\n",
       "  <thead>\n",
       "    <tr style=\"text-align: right;\">\n",
       "      <th></th>\n",
       "      <th>Date</th>\n",
       "      <th>Add1(in Thousands)</th>\n",
       "      <th>Add2(in Thousands)</th>\n",
       "      <th>Add3(in Thousands)</th>\n",
       "      <th>Add4(in Thousands)</th>\n",
       "      <th>Add5(in Thousands)</th>\n",
       "      <th>Profit(in Thousands)</th>\n",
       "    </tr>\n",
       "  </thead>\n",
       "  <tbody>\n",
       "    <tr>\n",
       "      <th>0</th>\n",
       "      <td>2018-10-08</td>\n",
       "      <td>208.00</td>\n",
       "      <td>222.25</td>\n",
       "      <td>206.85</td>\n",
       "      <td>216.00</td>\n",
       "      <td>215.15</td>\n",
       "      <td>4093.065</td>\n",
       "    </tr>\n",
       "    <tr>\n",
       "      <th>1</th>\n",
       "      <td>2018-10-05</td>\n",
       "      <td>217.00</td>\n",
       "      <td>218.60</td>\n",
       "      <td>205.90</td>\n",
       "      <td>210.25</td>\n",
       "      <td>209.20</td>\n",
       "      <td>4042.448</td>\n",
       "    </tr>\n",
       "    <tr>\n",
       "      <th>2</th>\n",
       "      <td>2018-10-04</td>\n",
       "      <td>223.50</td>\n",
       "      <td>227.80</td>\n",
       "      <td>216.15</td>\n",
       "      <td>217.25</td>\n",
       "      <td>218.20</td>\n",
       "      <td>4213.819</td>\n",
       "    </tr>\n",
       "    <tr>\n",
       "      <th>3</th>\n",
       "      <td>2018-10-03</td>\n",
       "      <td>230.00</td>\n",
       "      <td>237.50</td>\n",
       "      <td>225.75</td>\n",
       "      <td>226.45</td>\n",
       "      <td>227.60</td>\n",
       "      <td>4391.665</td>\n",
       "    </tr>\n",
       "    <tr>\n",
       "      <th>4</th>\n",
       "      <td>2018-10-01</td>\n",
       "      <td>234.55</td>\n",
       "      <td>234.60</td>\n",
       "      <td>221.05</td>\n",
       "      <td>230.30</td>\n",
       "      <td>230.90</td>\n",
       "      <td>4350.683</td>\n",
       "    </tr>\n",
       "  </tbody>\n",
       "</table>\n",
       "</div>"
      ],
      "text/plain": [
       "         Date  Add1(in Thousands)  Add2(in Thousands)  Add3(in Thousands)  \\\n",
       "0  2018-10-08              208.00              222.25              206.85   \n",
       "1  2018-10-05              217.00              218.60              205.90   \n",
       "2  2018-10-04              223.50              227.80              216.15   \n",
       "3  2018-10-03              230.00              237.50              225.75   \n",
       "4  2018-10-01              234.55              234.60              221.05   \n",
       "\n",
       "   Add4(in Thousands)  Add5(in Thousands)  Profit(in Thousands)  \n",
       "0              216.00              215.15              4093.065  \n",
       "1              210.25              209.20              4042.448  \n",
       "2              217.25              218.20              4213.819  \n",
       "3              226.45              227.60              4391.665  \n",
       "4              230.30              230.90              4350.683  "
      ]
     },
     "execution_count": 23,
     "metadata": {},
     "output_type": "execute_result"
    }
   ],
   "source": [
    "# reading dataset\n",
    "\n",
    "data = pd.read_csv('Add_sales_data_2018.csv')\n",
    "data.head()"
   ]
  },
  {
   "cell_type": "code",
   "execution_count": 24,
   "id": "c677f42e",
   "metadata": {},
   "outputs": [
    {
     "name": "stdout",
     "output_type": "stream",
     "text": [
      "<class 'pandas.core.frame.DataFrame'>\n",
      "RangeIndex: 205 entries, 0 to 204\n",
      "Data columns (total 7 columns):\n",
      " #   Column                Non-Null Count  Dtype  \n",
      "---  ------                --------------  -----  \n",
      " 0   Date                  205 non-null    object \n",
      " 1   Add1(in Thousands)    205 non-null    float64\n",
      " 2   Add2(in Thousands)    205 non-null    float64\n",
      " 3   Add3(in Thousands)    205 non-null    float64\n",
      " 4   Add4(in Thousands)    205 non-null    float64\n",
      " 5   Add5(in Thousands)    205 non-null    float64\n",
      " 6   Profit(in Thousands)  205 non-null    float64\n",
      "dtypes: float64(6), object(1)\n",
      "memory usage: 11.3+ KB\n"
     ]
    }
   ],
   "source": [
    "# checking info ()\n",
    "\n",
    "data.info()"
   ]
  },
  {
   "cell_type": "code",
   "execution_count": 25,
   "id": "710588e1",
   "metadata": {},
   "outputs": [
    {
     "data": {
      "text/plain": [
       "Date                    0\n",
       "Add1(in Thousands)      0\n",
       "Add2(in Thousands)      0\n",
       "Add3(in Thousands)      0\n",
       "Add4(in Thousands)      0\n",
       "Add5(in Thousands)      0\n",
       "Profit(in Thousands)    0\n",
       "dtype: int64"
      ]
     },
     "execution_count": 25,
     "metadata": {},
     "output_type": "execute_result"
    }
   ],
   "source": [
    "# checking for null values\n",
    "\n",
    "data.isna().sum()"
   ]
  },
  {
   "cell_type": "markdown",
   "id": "d1affe32",
   "metadata": {},
   "source": [
    "No null values in given dataset"
   ]
  },
  {
   "cell_type": "code",
   "execution_count": null,
   "id": "293353d8",
   "metadata": {},
   "outputs": [],
   "source": [
    "# checking for outliers\n",
    "\n",
    "plt.figure(figsize=(10,8))\n",
    "sns.boxplot(data=data.drop(['Profit(in Thousands)'], axis=1))\n",
    "plt.title('Boxplots of Add1 to Add5')\n",
    "plt.show()"
   ]
  },
  {
   "cell_type": "code",
   "execution_count": null,
   "id": "6cb5a931",
   "metadata": {},
   "outputs": [],
   "source": [
    "plt.figure(figsize=(6,2))\n",
    "sns.boxplot(x=data['Profit(in Thousands)'])\n",
    "plt.title('Boxplot of Profit')\n",
    "plt.show()"
   ]
  },
  {
   "cell_type": "markdown",
   "id": "fd99c544",
   "metadata": {},
   "source": [
    "No outliers in given dataset"
   ]
  },
  {
   "cell_type": "code",
   "execution_count": null,
   "id": "a2f26854",
   "metadata": {},
   "outputs": [],
   "source": [
    "# checking the distribution\n",
    "\n",
    "fqg = data.select_dtypes(include=['float64'])\n",
    "fqg.hist(figsize=(20,15))\n",
    "plt.show()"
   ]
  },
  {
   "cell_type": "code",
   "execution_count": null,
   "id": "2a7b2cad",
   "metadata": {},
   "outputs": [],
   "source": [
    "#checking statistics of data\n",
    "\n",
    "data.describe()"
   ]
  },
  {
   "cell_type": "code",
   "execution_count": null,
   "id": "d3fac09c",
   "metadata": {},
   "outputs": [],
   "source": [
    "#checking number of unique values in \"Profit(in Thousands)\" column\n",
    "\n",
    "data['Profit(in Thousands)'].nunique()"
   ]
  },
  {
   "cell_type": "markdown",
   "id": "288a68c7",
   "metadata": {},
   "source": [
    "All values in target column are unique"
   ]
  },
  {
   "cell_type": "markdown",
   "id": "e66c0416",
   "metadata": {},
   "source": [
    "# 1. Correlation Analysis"
   ]
  },
  {
   "cell_type": "code",
   "execution_count": null,
   "id": "1834735b",
   "metadata": {},
   "outputs": [],
   "source": [
    "corr = data.corr()\n",
    "plt.subplots(figsize=(10,4))\n",
    "sns.heatmap(data=corr, vmin=-0.99, vmax=0.99, annot=True, linewidth=0.2, cmap='PuBuGn')\n",
    "plt.show()"
   ]
  },
  {
   "cell_type": "markdown",
   "id": "00df8a5a",
   "metadata": {},
   "source": [
    "# 2. Regression model to predict profit"
   ]
  },
  {
   "cell_type": "code",
   "execution_count": null,
   "id": "90906ddd",
   "metadata": {},
   "outputs": [],
   "source": [
    "d1 = data.copy()  #copyong dataset to another variable "
   ]
  },
  {
   "cell_type": "code",
   "execution_count": null,
   "id": "8ac0732f",
   "metadata": {},
   "outputs": [],
   "source": [
    "# splitting the daset to train and test\n",
    "\n",
    "y1 = d1['Profit(in Thousands)']\n",
    "X1 = d1.drop(['Date', 'Profit(in Thousands)'], axis=1)"
   ]
  },
  {
   "cell_type": "code",
   "execution_count": null,
   "id": "9d974b09",
   "metadata": {},
   "outputs": [],
   "source": [
    "from sklearn.model_selection import train_test_split\n",
    "X1_train,X1_test,y1_train,y1_test = train_test_split(X1, y1, random_state=42, test_size=0.25)"
   ]
  },
  {
   "cell_type": "code",
   "execution_count": null,
   "id": "e3c2b3ee",
   "metadata": {},
   "outputs": [],
   "source": [
    "# building regression_model\n",
    "\n",
    "from sklearn import linear_model\n",
    "lr = linear_model.LinearRegression() \n",
    "\n",
    "model1 = lr.fit(X1_train, y1_train)"
   ]
  },
  {
   "cell_type": "code",
   "execution_count": null,
   "id": "20a3798a",
   "metadata": {},
   "outputs": [],
   "source": [
    "# to get the values predictions for values in X1_test\n",
    "\n",
    "predictions1 = model1.predict(X1_test)"
   ]
  },
  {
   "cell_type": "code",
   "execution_count": null,
   "id": "14b1ec3b",
   "metadata": {},
   "outputs": [],
   "source": [
    "# to compare predicted andf actual values\n",
    "\n",
    "pd.DataFrame({'orginal y1_value': y1_test,\n",
    "              'predicted y1_value': predictions1})"
   ]
  },
  {
   "cell_type": "code",
   "execution_count": null,
   "id": "829c302b",
   "metadata": {},
   "outputs": [],
   "source": [
    "# determining MSE\n",
    "\n",
    "from sklearn.metrics import mean_squared_error as mse\n",
    "print('MSE is: ', mse(y1_test, predictions1))"
   ]
  },
  {
   "cell_type": "markdown",
   "id": "124cf2ba",
   "metadata": {},
   "source": [
    "MSE of Model_1 is very low and hence Model_1 is acceptable"
   ]
  },
  {
   "cell_type": "markdown",
   "id": "017db7c0",
   "metadata": {},
   "source": [
    "# 3. Predict the profit generated by the company, if they wish to spend the following amount for advertisement"
   ]
  },
  {
   "cell_type": "markdown",
   "id": "d3873eaf",
   "metadata": {},
   "source": [
    "Add1(in Thousands) 290\n",
    "\n",
    "Add2(in Thousands) 312\n",
    "\n",
    "Add3(in Thousands) 309\n",
    "\n",
    "Add4(in Thousands) 298\n",
    "\n",
    "Add5(in Thousands) 320"
   ]
  },
  {
   "cell_type": "code",
   "execution_count": null,
   "id": "87e3b46d",
   "metadata": {},
   "outputs": [],
   "source": [
    "X1_new = pd.DataFrame({'Add1(in Thousands)':[290],\n",
    "                       'Add2(in Thousands)':[312],\n",
    "                       'Add3(in Thousands)':[309],\n",
    "                       'Add4(in Thousands)':[298],\n",
    "                       'Add5(in Thousands)':[320]})\n",
    "predictions2_new = model1.predict(X1_new)\n",
    "X1_new['Profit(in Thousands)']=predictions2_new\n",
    "X1_new"
   ]
  },
  {
   "cell_type": "code",
   "execution_count": null,
   "id": "e061f0ef",
   "metadata": {},
   "outputs": [],
   "source": []
  }
 ],
 "metadata": {
  "kernelspec": {
   "display_name": "Python 3 (ipykernel)",
   "language": "python",
   "name": "python3"
  },
  "language_info": {
   "codemirror_mode": {
    "name": "ipython",
    "version": 3
   },
   "file_extension": ".py",
   "mimetype": "text/x-python",
   "name": "python",
   "nbconvert_exporter": "python",
   "pygments_lexer": "ipython3",
   "version": "3.9.7"
  }
 },
 "nbformat": 4,
 "nbformat_minor": 5
}
